{
 "cells": [
  {
   "cell_type": "markdown",
   "id": "bccf31ec-fb5f-42f9-b92c-b5b239f62975",
   "metadata": {},
   "source": [
    "## Módulos"
   ]
  },
  {
   "cell_type": "code",
   "execution_count": 123,
   "id": "b4a56eee-bda8-4792-8cb4-c35f4cf3935d",
   "metadata": {},
   "outputs": [],
   "source": [
    "import pandas as pd\n",
    "import matplotlib.pyplot as plt\n",
    "import numpy as np\n",
    "import seaborn as sns\n",
    "import warnings\n",
    "from xgboost import XGBRegressor\n",
    "from sklearn.model_selection import train_test_split\n",
    "from sklearn.metrics import mean_absolute_error\n",
    "from sklearn.feature_selection import mutual_info_regression\n",
    "from sklearn.model_selection import cross_val_score\n",
    "from sklearn.compose import ColumnTransformer\n",
    "from sklearn.pipeline import Pipeline\n",
    "from sklearn.impute import SimpleImputer\n",
    "from sklearn.preprocessing import OneHotEncoder\n",
    "from category_encoders import MEstimateEncoder"
   ]
  },
  {
   "cell_type": "markdown",
   "id": "129b21f0-3472-4c98-a165-da61be1bee98",
   "metadata": {},
   "source": [
    "## Carregar dados"
   ]
  },
  {
   "cell_type": "code",
   "execution_count": 124,
   "id": "91d85ee6-8787-4c59-a204-afe8d722c7d1",
   "metadata": {},
   "outputs": [],
   "source": [
    "X_full = pd.read_csv('train.csv', index_col='Id')\n",
    "X_test_full = pd.read_csv('test.csv', index_col='Id')"
   ]
  },
  {
   "cell_type": "code",
   "execution_count": 125,
   "id": "819b5ef9-14cc-4d9c-a86e-c70aa6c000b0",
   "metadata": {},
   "outputs": [],
   "source": [
    "X_full.dropna(axis=0, subset=['SalePrice'], inplace=True)\n",
    "y = X_full.SalePrice\n",
    "X_full.drop(['SalePrice'], axis=1, inplace=True)"
   ]
  },
  {
   "cell_type": "code",
   "execution_count": 126,
   "id": "f92fd3f9-d1b6-440e-ba85-7b35f905176f",
   "metadata": {},
   "outputs": [
    {
     "name": "stdout",
     "output_type": "stream",
     "text": [
      "X_test_full data shape: (1459, 79)\n",
      "y data shape: (1460,)\n",
      "X_full data shape: (1460, 79)\n"
     ]
    }
   ],
   "source": [
    "print(f'X_test_full data shape: {X_test_full.shape}')\n",
    "print(f'y data shape: {y.shape}')\n",
    "print(f'X_full data shape: {X_full.shape}')"
   ]
  },
  {
   "cell_type": "markdown",
   "id": "772b5b60-9d94-42e4-b491-bba521c6683b",
   "metadata": {},
   "source": [
    "## Train and Test Split"
   ]
  },
  {
   "cell_type": "code",
   "execution_count": 127,
   "id": "3e00c9f5-fea4-47f9-81cc-0ece3c7ebcca",
   "metadata": {},
   "outputs": [],
   "source": [
    "X_train_full, X_valid_full, y_train, y_valid = train_test_split(X_full, y, train_size=0.8, test_size=0.2, random_state=0)"
   ]
  },
  {
   "cell_type": "markdown",
   "id": "f54e6257-4238-4832-9b13-d0e1cd764a97",
   "metadata": {},
   "source": [
    "## Seleção de colunas (categóricas e numéricas)"
   ]
  },
  {
   "cell_type": "code",
   "execution_count": 128,
   "id": "abb06ffb-77e6-429e-a048-b76eae92b7b3",
   "metadata": {},
   "outputs": [],
   "source": [
    "# Select categorical columns with relatively low cardinality (convenient but arbitrary)\n",
    "categorical_cols = [cname for cname in X_train_full.columns if\n",
    "                    X_train_full[cname].nunique() < 10 and \n",
    "                    X_train_full[cname].dtype == \"object\"]\n",
    "\n",
    "# Select numerical columns\n",
    "numerical_cols = [cname for cname in X_train_full.columns if \n",
    "                X_train_full[cname].dtype in ['int64', 'float64']]\n",
    "\n",
    "# Keep selected columns only\n",
    "my_cols = categorical_cols + numerical_cols\n",
    "X_train = X_train_full[my_cols].copy()\n",
    "X_valid = X_valid_full[my_cols].copy()\n",
    "X_test = X_test_full[my_cols].copy()"
   ]
  },
  {
   "cell_type": "markdown",
   "id": "c42db70c-e688-4d43-b741-aa20f7f0a6ac",
   "metadata": {},
   "source": [
    "## Preprocessing Steps and Pipeline"
   ]
  },
  {
   "cell_type": "code",
   "execution_count": 209,
   "id": "0eca2361-ec74-4591-81af-2d8751c6fe28",
   "metadata": {},
   "outputs": [
    {
     "name": "stdout",
     "output_type": "stream",
     "text": [
      "mk2 MAE: 15375.093134631848\n"
     ]
    }
   ],
   "source": [
    "numerical_transformer = SimpleImputer(strategy='mean')\n",
    "\n",
    "categorical_transformer = Pipeline(steps=[\n",
    "    ('imputer', SimpleImputer(strategy='most_frequent')),\n",
    "    ('onehot', OneHotEncoder(handle_unknown='ignore'))\n",
    "])\n",
    "\n",
    "preprocessor = ColumnTransformer(\n",
    "    transformers=[\n",
    "        ('num', numerical_transformer, numerical_cols),\n",
    "        ('cat', categorical_transformer, categorical_cols)\n",
    "    ])\n",
    "\n",
    "# Define model\n",
    "model_mk2 = XGBRegressor(colsample_bytree=0.4, learning_rate=0.03, max_depth=4, n_estimators=7500)\n",
    "\n",
    "# Bundle preprocessing and modeling code in a pipeline\n",
    "pipeline_mk2 = Pipeline(steps=[('preprocessor', preprocessor),\n",
    "                      ('model', model_mk2)\n",
    "                     ])\n",
    "\n",
    "# Preprocessing of training data, fit model \n",
    "pipeline_mk2.fit(X_train, y_train)\n",
    "\n",
    "# Preprocessing of validation data, get predictions\n",
    "mk2_preds = pipeline_mk2.predict(X_valid)\n",
    "\n",
    "print('mk2 MAE:', mean_absolute_error(y_valid, mk2_preds))"
   ]
  },
  {
   "cell_type": "code",
   "execution_count": null,
   "id": "a92cf9bc-aac8-41c7-b87c-b4f2162ae1aa",
   "metadata": {},
   "outputs": [],
   "source": [
    "# model_mk2 = XGBRegressor(colsample_bytree=0.4, learning_rate=0.03, max_depth=4, n_estimators=4500)\n",
    "# mk2 MAE: 15488.651460830479\n",
    "\n",
    "# model_mk2 = XGBRegressor(colsample_bytree=0.4, learning_rate=0.03, max_depth=4, n_estimators=5500)\n",
    "# mk2 MAE: 15485.14960134846\n",
    "\n",
    "# model_mk2 = XGBRegressor(colsample_bytree=0.4, learning_rate=0.03, max_depth=4, n_estimators=6500)\n",
    "# mk2 MAE: 15473.784821810788\n",
    "\n",
    "# model_mk2 = XGBRegressor(colsample_bytree=0.4, learning_rate=0.03, max_depth=4, n_estimators=5500)\n",
    "# mk2 MAE: 15378.602244755994\n",
    "\n",
    "# model_mk2 = XGBRegressor(colsample_bytree=0.4, learning_rate=0.03, max_depth=4, n_estimators=6500)\n",
    "# mk2 MAE: 15375.135100064212"
   ]
  },
  {
   "cell_type": "markdown",
   "id": "a0d0ddc2-0142-4607-8eb4-1580b9e372a3",
   "metadata": {},
   "source": [
    "## Output"
   ]
  },
  {
   "cell_type": "code",
   "execution_count": 212,
   "id": "46632f55-6ef8-4472-a8aa-28ef8bd712ac",
   "metadata": {},
   "outputs": [],
   "source": [
    "mk2_test_predictions = pipeline_mk2.predict(X_test)\n",
    "output = pd.DataFrame({'Id': X_test_full.index,\n",
    "                       'SalePrice': mk2_test_predictions})\n",
    "output.to_csv('submission_mk2.csv', index=False)"
   ]
  }
 ],
 "metadata": {
  "kernelspec": {
   "display_name": "Python 3 (ipykernel)",
   "language": "python",
   "name": "python3"
  },
  "language_info": {
   "codemirror_mode": {
    "name": "ipython",
    "version": 3
   },
   "file_extension": ".py",
   "mimetype": "text/x-python",
   "name": "python",
   "nbconvert_exporter": "python",
   "pygments_lexer": "ipython3",
   "version": "3.10.4"
  }
 },
 "nbformat": 4,
 "nbformat_minor": 5
}
